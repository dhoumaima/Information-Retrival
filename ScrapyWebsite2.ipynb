{
  "nbformat": 4,
  "nbformat_minor": 0,
  "metadata": {
    "colab": {
      "provenance": [],
      "authorship_tag": "ABX9TyPgzNeOydpLEDW6r9/xgxi9",
      "include_colab_link": true
    },
    "kernelspec": {
      "name": "python3",
      "display_name": "Python 3"
    },
    "language_info": {
      "name": "python"
    }
  },
  "cells": [
    {
      "cell_type": "markdown",
      "metadata": {
        "id": "view-in-github",
        "colab_type": "text"
      },
      "source": [
        "<a href=\"https://colab.research.google.com/github/dhoumaima/Information-Retrival/blob/main/ScrapyWebsite2.ipynb\" target=\"_parent\"><img src=\"https://colab.research.google.com/assets/colab-badge.svg\" alt=\"Open In Colab\"/></a>"
      ]
    },
    {
      "cell_type": "code",
      "execution_count": null,
      "metadata": {
        "colab": {
          "base_uri": "https://localhost:8080/"
        },
        "id": "juOIhxxveDQl",
        "outputId": "851e4d29-5725-4658-cde6-d32a7d99b346"
      },
      "outputs": [
        {
          "output_type": "stream",
          "name": "stdout",
          "text": [
            "Collecting Scrapy\n",
            "  Downloading Scrapy-2.11.1-py2.py3-none-any.whl (287 kB)\n",
            "\u001b[2K     \u001b[90m━━━━━━━━━━━━━━━━━━━━━━━━━━━━━━━━━━━━━━━━\u001b[0m \u001b[32m287.8/287.8 kB\u001b[0m \u001b[31m5.1 MB/s\u001b[0m eta \u001b[36m0:00:00\u001b[0m\n",
            "\u001b[?25hCollecting Twisted>=18.9.0 (from Scrapy)\n",
            "  Downloading twisted-23.10.0-py3-none-any.whl (3.2 MB)\n",
            "\u001b[2K     \u001b[90m━━━━━━━━━━━━━━━━━━━━━━━━━━━━━━━━━━━━━━━━\u001b[0m \u001b[32m3.2/3.2 MB\u001b[0m \u001b[31m14.0 MB/s\u001b[0m eta \u001b[36m0:00:00\u001b[0m\n",
            "\u001b[?25hRequirement already satisfied: cryptography>=36.0.0 in /usr/local/lib/python3.10/dist-packages (from Scrapy) (42.0.2)\n",
            "Collecting cssselect>=0.9.1 (from Scrapy)\n",
            "  Downloading cssselect-1.2.0-py2.py3-none-any.whl (18 kB)\n",
            "Collecting itemloaders>=1.0.1 (from Scrapy)\n",
            "  Downloading itemloaders-1.1.0-py3-none-any.whl (11 kB)\n",
            "Collecting parsel>=1.5.0 (from Scrapy)\n",
            "  Downloading parsel-1.8.1-py2.py3-none-any.whl (17 kB)\n",
            "Requirement already satisfied: pyOpenSSL>=21.0.0 in /usr/local/lib/python3.10/dist-packages (from Scrapy) (24.0.0)\n",
            "Collecting queuelib>=1.4.2 (from Scrapy)\n",
            "  Downloading queuelib-1.6.2-py2.py3-none-any.whl (13 kB)\n",
            "Collecting service-identity>=18.1.0 (from Scrapy)\n",
            "  Downloading service_identity-24.1.0-py3-none-any.whl (12 kB)\n",
            "Collecting w3lib>=1.17.0 (from Scrapy)\n",
            "  Downloading w3lib-2.1.2-py3-none-any.whl (21 kB)\n",
            "Collecting zope.interface>=5.1.0 (from Scrapy)\n",
            "  Downloading zope.interface-6.2-cp310-cp310-manylinux_2_5_x86_64.manylinux1_x86_64.manylinux_2_17_x86_64.manylinux2014_x86_64.whl (247 kB)\n",
            "\u001b[2K     \u001b[90m━━━━━━━━━━━━━━━━━━━━━━━━━━━━━━━━━━━━━━━━\u001b[0m \u001b[32m247.3/247.3 kB\u001b[0m \u001b[31m18.9 MB/s\u001b[0m eta \u001b[36m0:00:00\u001b[0m\n",
            "\u001b[?25hCollecting protego>=0.1.15 (from Scrapy)\n",
            "  Downloading Protego-0.3.0-py2.py3-none-any.whl (8.5 kB)\n",
            "Collecting itemadapter>=0.1.0 (from Scrapy)\n",
            "  Downloading itemadapter-0.8.0-py3-none-any.whl (11 kB)\n",
            "Requirement already satisfied: setuptools in /usr/local/lib/python3.10/dist-packages (from Scrapy) (67.7.2)\n",
            "Requirement already satisfied: packaging in /usr/local/lib/python3.10/dist-packages (from Scrapy) (23.2)\n",
            "Collecting tldextract (from Scrapy)\n",
            "  Downloading tldextract-5.1.1-py3-none-any.whl (97 kB)\n",
            "\u001b[2K     \u001b[90m━━━━━━━━━━━━━━━━━━━━━━━━━━━━━━━━━━━━━━━━\u001b[0m \u001b[32m97.7/97.7 kB\u001b[0m \u001b[31m11.1 MB/s\u001b[0m eta \u001b[36m0:00:00\u001b[0m\n",
            "\u001b[?25hRequirement already satisfied: lxml>=4.4.1 in /usr/local/lib/python3.10/dist-packages (from Scrapy) (4.9.4)\n",
            "Collecting PyDispatcher>=2.0.5 (from Scrapy)\n",
            "  Downloading PyDispatcher-2.0.7-py3-none-any.whl (12 kB)\n",
            "Requirement already satisfied: cffi>=1.12 in /usr/local/lib/python3.10/dist-packages (from cryptography>=36.0.0->Scrapy) (1.16.0)\n",
            "Collecting jmespath>=0.9.5 (from itemloaders>=1.0.1->Scrapy)\n",
            "  Downloading jmespath-1.0.1-py3-none-any.whl (20 kB)\n",
            "Requirement already satisfied: attrs>=19.1.0 in /usr/local/lib/python3.10/dist-packages (from service-identity>=18.1.0->Scrapy) (23.2.0)\n",
            "Requirement already satisfied: pyasn1 in /usr/local/lib/python3.10/dist-packages (from service-identity>=18.1.0->Scrapy) (0.5.1)\n",
            "Requirement already satisfied: pyasn1-modules in /usr/local/lib/python3.10/dist-packages (from service-identity>=18.1.0->Scrapy) (0.3.0)\n",
            "Collecting automat>=0.8.0 (from Twisted>=18.9.0->Scrapy)\n",
            "  Downloading Automat-22.10.0-py2.py3-none-any.whl (26 kB)\n",
            "Collecting constantly>=15.1 (from Twisted>=18.9.0->Scrapy)\n",
            "  Downloading constantly-23.10.4-py3-none-any.whl (13 kB)\n",
            "Collecting hyperlink>=17.1.1 (from Twisted>=18.9.0->Scrapy)\n",
            "  Downloading hyperlink-21.0.0-py2.py3-none-any.whl (74 kB)\n",
            "\u001b[2K     \u001b[90m━━━━━━━━━━━━━━━━━━━━━━━━━━━━━━━━━━━━━━━━\u001b[0m \u001b[32m74.6/74.6 kB\u001b[0m \u001b[31m9.8 MB/s\u001b[0m eta \u001b[36m0:00:00\u001b[0m\n",
            "\u001b[?25hCollecting incremental>=22.10.0 (from Twisted>=18.9.0->Scrapy)\n",
            "  Downloading incremental-22.10.0-py2.py3-none-any.whl (16 kB)\n",
            "Requirement already satisfied: typing-extensions>=4.2.0 in /usr/local/lib/python3.10/dist-packages (from Twisted>=18.9.0->Scrapy) (4.9.0)\n",
            "Requirement already satisfied: idna in /usr/local/lib/python3.10/dist-packages (from tldextract->Scrapy) (3.6)\n",
            "Requirement already satisfied: requests>=2.1.0 in /usr/local/lib/python3.10/dist-packages (from tldextract->Scrapy) (2.31.0)\n",
            "Collecting requests-file>=1.4 (from tldextract->Scrapy)\n",
            "  Downloading requests_file-2.0.0-py2.py3-none-any.whl (4.2 kB)\n",
            "Requirement already satisfied: filelock>=3.0.8 in /usr/local/lib/python3.10/dist-packages (from tldextract->Scrapy) (3.13.1)\n",
            "Requirement already satisfied: six in /usr/local/lib/python3.10/dist-packages (from automat>=0.8.0->Twisted>=18.9.0->Scrapy) (1.16.0)\n",
            "Requirement already satisfied: pycparser in /usr/local/lib/python3.10/dist-packages (from cffi>=1.12->cryptography>=36.0.0->Scrapy) (2.21)\n",
            "Requirement already satisfied: charset-normalizer<4,>=2 in /usr/local/lib/python3.10/dist-packages (from requests>=2.1.0->tldextract->Scrapy) (3.3.2)\n",
            "Requirement already satisfied: urllib3<3,>=1.21.1 in /usr/local/lib/python3.10/dist-packages (from requests>=2.1.0->tldextract->Scrapy) (2.0.7)\n",
            "Requirement already satisfied: certifi>=2017.4.17 in /usr/local/lib/python3.10/dist-packages (from requests>=2.1.0->tldextract->Scrapy) (2024.2.2)\n",
            "Installing collected packages: PyDispatcher, incremental, zope.interface, w3lib, queuelib, protego, jmespath, itemadapter, hyperlink, cssselect, constantly, automat, Twisted, requests-file, parsel, tldextract, service-identity, itemloaders, Scrapy\n",
            "Successfully installed PyDispatcher-2.0.7 Scrapy-2.11.1 Twisted-23.10.0 automat-22.10.0 constantly-23.10.4 cssselect-1.2.0 hyperlink-21.0.0 incremental-22.10.0 itemadapter-0.8.0 itemloaders-1.1.0 jmespath-1.0.1 parsel-1.8.1 protego-0.3.0 queuelib-1.6.2 requests-file-2.0.0 service-identity-24.1.0 tldextract-5.1.1 w3lib-2.1.2 zope.interface-6.2\n"
          ]
        }
      ],
      "source": [
        "!pip install Scrapy"
      ]
    },
    {
      "cell_type": "code",
      "source": [
        "!scrapy startproject MytimesNews"
      ],
      "metadata": {
        "colab": {
          "base_uri": "https://localhost:8080/"
        },
        "id": "b6Ua5cs4eSbk",
        "outputId": "8c73fecd-2bd3-4556-b914-4fa968b62406"
      },
      "execution_count": null,
      "outputs": [
        {
          "output_type": "stream",
          "name": "stdout",
          "text": [
            "New Scrapy project 'MytimesNews', using template directory '/usr/local/lib/python3.10/dist-packages/scrapy/templates/project', created in:\n",
            "    /content/MytimesNews\n",
            "\n",
            "You can start your first spider with:\n",
            "    cd MytimesNews\n",
            "    scrapy genspider example example.com\n"
          ]
        }
      ]
    },
    {
      "cell_type": "code",
      "source": [
        "%cd MytimesNews/MytimesNews/spiders/"
      ],
      "metadata": {
        "colab": {
          "base_uri": "https://localhost:8080/"
        },
        "id": "Mc-JFqZCebyL",
        "outputId": "61446a56-e285-491f-caee-0fa97c146fac"
      },
      "execution_count": null,
      "outputs": [
        {
          "output_type": "stream",
          "name": "stdout",
          "text": [
            "/content/MytimesNews/MytimesNews/spiders\n"
          ]
        }
      ]
    },
    {
      "cell_type": "code",
      "source": [
        "!scrapy genspider secondscraper https://www.nytimes.com/international/"
      ],
      "metadata": {
        "colab": {
          "base_uri": "https://localhost:8080/"
        },
        "id": "1oUPhP36edHi",
        "outputId": "7d260650-ff9d-4f26-f5bb-dbea86f3602b"
      },
      "execution_count": null,
      "outputs": [
        {
          "output_type": "stream",
          "name": "stdout",
          "text": [
            "Created spider 'secondscraper' using template 'basic' in module:\n",
            "  MytimesNews.spiders.secondscraper\n"
          ]
        }
      ]
    },
    {
      "cell_type": "code",
      "source": [
        "%%writefile ./secondscraper.py\n",
        "import scrapy\n",
        "\n",
        "\n",
        "class secondscraper(scrapy.Spider):\n",
        "    name = \"secondscraper\"\n",
        "    allowed_domains = [\"www.nytimes.com\"]\n",
        "    start_urls = [\"https://www.nytimes.com/international\"]\n",
        "    news_count = 0\n",
        "\n",
        "    def parse(self, response):\n",
        "        news_items = response.css('.news')\n",
        "        base_url = \"https://www.nytimes.com\"\n",
        "\n",
        "        for news_item in news_items:\n",
        "            news_url = f\"{base_url}\" + news_item.css('.title a::attr(href)').get()\n",
        "            news_title = news_item.css('.title a::text').get()\n",
        "            news_date = news_item.css('.infos::text').get()\n",
        "\n",
        "            news_details = {\n",
        "                'news_title': news_title,\n",
        "                'news_date': news_date,\n",
        "                'news_url': news_url\n",
        "            }\n",
        "\n",
        "            yield scrapy.Request(url=news_url, callback=self.parse_news_body, meta={'news_details': news_details})\n",
        "            self.news_count += 1\n",
        "            if self.news_count >= 150:\n",
        "                break\n",
        "\n",
        "        next_page = \"https://www.nytimes.com/international\"\n",
        "        next_page_url = f\"{next_page}\" + response.css('.pagination a:contains(\"Suivant\")::attr(href)').get()\n",
        "\n",
        "        if next_page_url is not None and self.news_count < 150:\n",
        "            yield scrapy.Request(next_page_url, callback=self.parse)\n",
        "\n",
        "    def parse_news_body(self, response):\n",
        "        news_content = response.css('.article_body p::text').extract()\n",
        "        news_details = response.meta['news_details']\n",
        "        news_details['content'] = news_content\n",
        "\n",
        "        yield news_details"
      ],
      "metadata": {
        "colab": {
          "base_uri": "https://localhost:8080/"
        },
        "id": "xzsFytOQekqW",
        "outputId": "a4fae6bb-7130-4dc2-8f32-54c83c0fe65c"
      },
      "execution_count": null,
      "outputs": [
        {
          "output_type": "stream",
          "name": "stdout",
          "text": [
            "Overwriting ./secondscraper.py\n"
          ]
        }
      ]
    },
    {
      "cell_type": "code",
      "source": [
        "!scrapy crawl secondscraper -o news_data.json"
      ],
      "metadata": {
        "colab": {
          "base_uri": "https://localhost:8080/"
        },
        "id": "FatfphxzernH",
        "outputId": "1704a99d-c689-41b1-a9a8-1af6cea20b1b"
      },
      "execution_count": null,
      "outputs": [
        {
          "output_type": "stream",
          "name": "stdout",
          "text": [
            "2024-02-19 22:27:21 [scrapy.utils.log] INFO: Scrapy 2.11.1 started (bot: MytimesNews)\n",
            "2024-02-19 22:27:21 [scrapy.utils.log] INFO: Versions: lxml 4.9.4.0, libxml2 2.10.3, cssselect 1.2.0, parsel 1.8.1, w3lib 2.1.2, Twisted 23.10.0, Python 3.10.12 (main, Nov 20 2023, 15:14:05) [GCC 11.4.0], pyOpenSSL 24.0.0 (OpenSSL 3.2.1 30 Jan 2024), cryptography 42.0.2, Platform Linux-6.1.58+-x86_64-with-glibc2.35\n",
            "2024-02-19 22:27:21 [scrapy.addons] INFO: Enabled addons:\n",
            "[]\n",
            "2024-02-19 22:27:21 [asyncio] DEBUG: Using selector: EpollSelector\n",
            "2024-02-19 22:27:21 [scrapy.utils.log] DEBUG: Using reactor: twisted.internet.asyncioreactor.AsyncioSelectorReactor\n",
            "2024-02-19 22:27:21 [scrapy.utils.log] DEBUG: Using asyncio event loop: asyncio.unix_events._UnixSelectorEventLoop\n",
            "2024-02-19 22:27:21 [scrapy.extensions.telnet] INFO: Telnet Password: fda0a79daed7dac6\n",
            "2024-02-19 22:27:21 [scrapy.middleware] INFO: Enabled extensions:\n",
            "['scrapy.extensions.corestats.CoreStats',\n",
            " 'scrapy.extensions.telnet.TelnetConsole',\n",
            " 'scrapy.extensions.memusage.MemoryUsage',\n",
            " 'scrapy.extensions.feedexport.FeedExporter',\n",
            " 'scrapy.extensions.logstats.LogStats']\n",
            "2024-02-19 22:27:21 [scrapy.crawler] INFO: Overridden settings:\n",
            "{'BOT_NAME': 'MytimesNews',\n",
            " 'FEED_EXPORT_ENCODING': 'utf-8',\n",
            " 'NEWSPIDER_MODULE': 'MytimesNews.spiders',\n",
            " 'REQUEST_FINGERPRINTER_IMPLEMENTATION': '2.7',\n",
            " 'ROBOTSTXT_OBEY': True,\n",
            " 'SPIDER_MODULES': ['MytimesNews.spiders'],\n",
            " 'TWISTED_REACTOR': 'twisted.internet.asyncioreactor.AsyncioSelectorReactor'}\n",
            "2024-02-19 22:27:21 [scrapy.middleware] INFO: Enabled downloader middlewares:\n",
            "['scrapy.downloadermiddlewares.robotstxt.RobotsTxtMiddleware',\n",
            " 'scrapy.downloadermiddlewares.httpauth.HttpAuthMiddleware',\n",
            " 'scrapy.downloadermiddlewares.downloadtimeout.DownloadTimeoutMiddleware',\n",
            " 'scrapy.downloadermiddlewares.defaultheaders.DefaultHeadersMiddleware',\n",
            " 'scrapy.downloadermiddlewares.useragent.UserAgentMiddleware',\n",
            " 'scrapy.downloadermiddlewares.retry.RetryMiddleware',\n",
            " 'scrapy.downloadermiddlewares.redirect.MetaRefreshMiddleware',\n",
            " 'scrapy.downloadermiddlewares.httpcompression.HttpCompressionMiddleware',\n",
            " 'scrapy.downloadermiddlewares.redirect.RedirectMiddleware',\n",
            " 'scrapy.downloadermiddlewares.cookies.CookiesMiddleware',\n",
            " 'scrapy.downloadermiddlewares.httpproxy.HttpProxyMiddleware',\n",
            " 'scrapy.downloadermiddlewares.stats.DownloaderStats']\n",
            "2024-02-19 22:27:21 [scrapy.middleware] INFO: Enabled spider middlewares:\n",
            "['scrapy.spidermiddlewares.httperror.HttpErrorMiddleware',\n",
            " 'scrapy.spidermiddlewares.offsite.OffsiteMiddleware',\n",
            " 'scrapy.spidermiddlewares.referer.RefererMiddleware',\n",
            " 'scrapy.spidermiddlewares.urllength.UrlLengthMiddleware',\n",
            " 'scrapy.spidermiddlewares.depth.DepthMiddleware']\n",
            "2024-02-19 22:27:21 [scrapy.middleware] INFO: Enabled item pipelines:\n",
            "[]\n",
            "2024-02-19 22:27:21 [scrapy.core.engine] INFO: Spider opened\n",
            "2024-02-19 22:27:21 [scrapy.extensions.logstats] INFO: Crawled 0 pages (at 0 pages/min), scraped 0 items (at 0 items/min)\n",
            "2024-02-19 22:27:21 [scrapy.extensions.telnet] INFO: Telnet console listening on 127.0.0.1:6023\n",
            "2024-02-19 22:27:21 [urllib3.connectionpool] DEBUG: Starting new HTTPS connection (1): publicsuffix.org:443\n",
            "2024-02-19 22:27:21 [urllib3.connectionpool] DEBUG: https://publicsuffix.org:443 \"GET /list/public_suffix_list.dat HTTP/1.1\" 200 84492\n",
            "2024-02-19 22:27:21 [scrapy.core.engine] DEBUG: Crawled (200) <GET https://www.nytimes.com/robots.txt> (referer: None)\n",
            "2024-02-19 22:27:22 [scrapy.downloadermiddlewares.redirect] DEBUG: Redirecting (301) to <GET https://www.nytimes.com/international/> from <GET https://www.nytimes.com/international>\n",
            "2024-02-19 22:27:22 [scrapy.core.engine] DEBUG: Crawled (200) <GET https://www.nytimes.com/international/> (referer: None)\n",
            "2024-02-19 22:27:22 [scrapy.core.scraper] ERROR: Spider error processing <GET https://www.nytimes.com/international/> (referer: None)\n",
            "Traceback (most recent call last):\n",
            "  File \"/usr/local/lib/python3.10/dist-packages/scrapy/utils/defer.py\", line 279, in iter_errback\n",
            "    yield next(it)\n",
            "  File \"/usr/local/lib/python3.10/dist-packages/scrapy/utils/python.py\", line 350, in __next__\n",
            "    return next(self.data)\n",
            "  File \"/usr/local/lib/python3.10/dist-packages/scrapy/utils/python.py\", line 350, in __next__\n",
            "    return next(self.data)\n",
            "  File \"/usr/local/lib/python3.10/dist-packages/scrapy/core/spidermw.py\", line 106, in process_sync\n",
            "    for r in iterable:\n",
            "  File \"/usr/local/lib/python3.10/dist-packages/scrapy/spidermiddlewares/offsite.py\", line 28, in <genexpr>\n",
            "    return (r for r in result or () if self._filter(r, spider))\n",
            "  File \"/usr/local/lib/python3.10/dist-packages/scrapy/core/spidermw.py\", line 106, in process_sync\n",
            "    for r in iterable:\n",
            "  File \"/usr/local/lib/python3.10/dist-packages/scrapy/spidermiddlewares/referer.py\", line 352, in <genexpr>\n",
            "    return (self._set_referer(r, response) for r in result or ())\n",
            "  File \"/usr/local/lib/python3.10/dist-packages/scrapy/core/spidermw.py\", line 106, in process_sync\n",
            "    for r in iterable:\n",
            "  File \"/usr/local/lib/python3.10/dist-packages/scrapy/spidermiddlewares/urllength.py\", line 27, in <genexpr>\n",
            "    return (r for r in result or () if self._filter(r, spider))\n",
            "  File \"/usr/local/lib/python3.10/dist-packages/scrapy/core/spidermw.py\", line 106, in process_sync\n",
            "    for r in iterable:\n",
            "  File \"/usr/local/lib/python3.10/dist-packages/scrapy/spidermiddlewares/depth.py\", line 31, in <genexpr>\n",
            "    return (r for r in result or () if self._filter(r, response, spider))\n",
            "  File \"/usr/local/lib/python3.10/dist-packages/scrapy/core/spidermw.py\", line 106, in process_sync\n",
            "    for r in iterable:\n",
            "  File \"/content/MytimesNews/MytimesNews/spiders/secondscraper.py\", line 31, in parse\n",
            "    next_page_url = f\"{next_page}\" + response.css('.pagination a:contains(\"Suivant\")::attr(href)').get()\n",
            "TypeError: can only concatenate str (not \"NoneType\") to str\n",
            "2024-02-19 22:27:22 [scrapy.core.engine] INFO: Closing spider (finished)\n",
            "2024-02-19 22:27:22 [scrapy.extensions.feedexport] INFO: Stored json feed (0 items) in: news_data.json\n",
            "2024-02-19 22:27:22 [scrapy.statscollectors] INFO: Dumping Scrapy stats:\n",
            "{'downloader/request_bytes': 833,\n",
            " 'downloader/request_count': 3,\n",
            " 'downloader/request_method_count/GET': 3,\n",
            " 'downloader/response_bytes': 159709,\n",
            " 'downloader/response_count': 3,\n",
            " 'downloader/response_status_count/200': 2,\n",
            " 'downloader/response_status_count/301': 1,\n",
            " 'elapsed_time_seconds': 1.434859,\n",
            " 'feedexport/success_count/FileFeedStorage': 1,\n",
            " 'finish_reason': 'finished',\n",
            " 'finish_time': datetime.datetime(2024, 2, 19, 22, 27, 22, 811552, tzinfo=datetime.timezone.utc),\n",
            " 'httpcompression/response_bytes': 620169,\n",
            " 'httpcompression/response_count': 2,\n",
            " 'log_count/DEBUG': 8,\n",
            " 'log_count/ERROR': 1,\n",
            " 'log_count/INFO': 11,\n",
            " 'memusage/max': 99020800,\n",
            " 'memusage/startup': 99020800,\n",
            " 'response_received_count': 2,\n",
            " 'robotstxt/request_count': 1,\n",
            " 'robotstxt/response_count': 1,\n",
            " 'robotstxt/response_status_count/200': 1,\n",
            " 'scheduler/dequeued': 2,\n",
            " 'scheduler/dequeued/memory': 2,\n",
            " 'scheduler/enqueued': 2,\n",
            " 'scheduler/enqueued/memory': 2,\n",
            " 'spider_exceptions/TypeError': 1,\n",
            " 'start_time': datetime.datetime(2024, 2, 19, 22, 27, 21, 376693, tzinfo=datetime.timezone.utc)}\n",
            "2024-02-19 22:27:22 [scrapy.core.engine] INFO: Spider closed (finished)\n"
          ]
        }
      ]
    },
    {
      "cell_type": "code",
      "source": [
        "import json\n",
        "\n",
        "with open('news_data.json','r') as file:\n",
        "  data=json.load(file)\n",
        "\n",
        "print(len(data))"
      ],
      "metadata": {
        "colab": {
          "base_uri": "https://localhost:8080/"
        },
        "id": "Hrq9Llw8evhJ",
        "outputId": "0d04f0c3-4c10-4ccf-c1dd-5b5c86657ed0"
      },
      "execution_count": null,
      "outputs": [
        {
          "output_type": "stream",
          "name": "stdout",
          "text": [
            "0\n"
          ]
        }
      ]
    },
    {
      "cell_type": "markdown",
      "source": [
        "je ne sais pas pourquoi data est vide\n",
        "j'ai essayé de suivre des autres travaille mais ça ne donne pas la même resultat."
      ],
      "metadata": {
        "id": "-Xobp78ffNnx"
      }
    }
  ]
}