{
  "nbformat": 4,
  "nbformat_minor": 0,
  "metadata": {
    "colab": {
      "provenance": [],
      "authorship_tag": "ABX9TyNfaCKQNqgFgzEWF0IYkWFH",
      "include_colab_link": true
    },
    "kernelspec": {
      "name": "python3",
      "display_name": "Python 3"
    },
    "language_info": {
      "name": "python"
    }
  },
  "cells": [
    {
      "cell_type": "markdown",
      "metadata": {
        "id": "view-in-github",
        "colab_type": "text"
      },
      "source": [
        "<a href=\"https://colab.research.google.com/github/dhoumaima/Information-Retrival/blob/main/alchourouk.ipynb\" target=\"_parent\"><img src=\"https://colab.research.google.com/assets/colab-badge.svg\" alt=\"Open In Colab\"/></a>"
      ]
    },
    {
      "cell_type": "code",
      "execution_count": null,
      "metadata": {
        "colab": {
          "base_uri": "https://localhost:8080/"
        },
        "id": "LyfX-YQ0zOX5",
        "outputId": "4179e853-72b2-4233-efbb-02caf4d23fd1"
      },
      "outputs": [
        {
          "output_type": "stream",
          "name": "stdout",
          "text": [
            "Collecting Scrapy\n",
            "  Downloading Scrapy-2.11.1-py2.py3-none-any.whl (287 kB)\n",
            "\u001b[2K     \u001b[90m━━━━━━━━━━━━━━━━━━━━━━━━━━━━━━━━━━━━━━━━\u001b[0m \u001b[32m287.8/287.8 kB\u001b[0m \u001b[31m2.2 MB/s\u001b[0m eta \u001b[36m0:00:00\u001b[0m\n",
            "\u001b[?25hCollecting Twisted>=18.9.0 (from Scrapy)\n",
            "  Downloading twisted-24.3.0-py3-none-any.whl (3.2 MB)\n",
            "\u001b[2K     \u001b[90m━━━━━━━━━━━━━━━━━━━━━━━━━━━━━━━━━━━━━━━━\u001b[0m \u001b[32m3.2/3.2 MB\u001b[0m \u001b[31m21.0 MB/s\u001b[0m eta \u001b[36m0:00:00\u001b[0m\n",
            "\u001b[?25hRequirement already satisfied: cryptography>=36.0.0 in /usr/local/lib/python3.10/dist-packages (from Scrapy) (42.0.5)\n",
            "Collecting cssselect>=0.9.1 (from Scrapy)\n",
            "  Downloading cssselect-1.2.0-py2.py3-none-any.whl (18 kB)\n",
            "Collecting itemloaders>=1.0.1 (from Scrapy)\n",
            "  Downloading itemloaders-1.1.0-py3-none-any.whl (11 kB)\n",
            "Collecting parsel>=1.5.0 (from Scrapy)\n",
            "  Downloading parsel-1.8.1-py2.py3-none-any.whl (17 kB)\n",
            "Requirement already satisfied: pyOpenSSL>=21.0.0 in /usr/local/lib/python3.10/dist-packages (from Scrapy) (24.0.0)\n",
            "Collecting queuelib>=1.4.2 (from Scrapy)\n",
            "  Downloading queuelib-1.6.2-py2.py3-none-any.whl (13 kB)\n",
            "Collecting service-identity>=18.1.0 (from Scrapy)\n",
            "  Downloading service_identity-24.1.0-py3-none-any.whl (12 kB)\n",
            "Collecting w3lib>=1.17.0 (from Scrapy)\n",
            "  Downloading w3lib-2.1.2-py3-none-any.whl (21 kB)\n",
            "Collecting zope.interface>=5.1.0 (from Scrapy)\n",
            "  Downloading zope.interface-6.2-cp310-cp310-manylinux_2_5_x86_64.manylinux1_x86_64.manylinux_2_17_x86_64.manylinux2014_x86_64.whl (247 kB)\n",
            "\u001b[2K     \u001b[90m━━━━━━━━━━━━━━━━━━━━━━━━━━━━━━━━━━━━━━━━\u001b[0m \u001b[32m247.3/247.3 kB\u001b[0m \u001b[31m29.3 MB/s\u001b[0m eta \u001b[36m0:00:00\u001b[0m\n",
            "\u001b[?25hCollecting protego>=0.1.15 (from Scrapy)\n",
            "  Downloading Protego-0.3.0-py2.py3-none-any.whl (8.5 kB)\n",
            "Collecting itemadapter>=0.1.0 (from Scrapy)\n",
            "  Downloading itemadapter-0.8.0-py3-none-any.whl (11 kB)\n",
            "Requirement already satisfied: setuptools in /usr/local/lib/python3.10/dist-packages (from Scrapy) (67.7.2)\n",
            "Requirement already satisfied: packaging in /usr/local/lib/python3.10/dist-packages (from Scrapy) (23.2)\n",
            "Collecting tldextract (from Scrapy)\n",
            "  Downloading tldextract-5.1.1-py3-none-any.whl (97 kB)\n",
            "\u001b[2K     \u001b[90m━━━━━━━━━━━━━━━━━━━━━━━━━━━━━━━━━━━━━━━━\u001b[0m \u001b[32m97.7/97.7 kB\u001b[0m \u001b[31m11.7 MB/s\u001b[0m eta \u001b[36m0:00:00\u001b[0m\n",
            "\u001b[?25hRequirement already satisfied: lxml>=4.4.1 in /usr/local/lib/python3.10/dist-packages (from Scrapy) (4.9.4)\n",
            "Collecting PyDispatcher>=2.0.5 (from Scrapy)\n",
            "  Downloading PyDispatcher-2.0.7-py3-none-any.whl (12 kB)\n",
            "Requirement already satisfied: cffi>=1.12 in /usr/local/lib/python3.10/dist-packages (from cryptography>=36.0.0->Scrapy) (1.16.0)\n",
            "Collecting jmespath>=0.9.5 (from itemloaders>=1.0.1->Scrapy)\n",
            "  Downloading jmespath-1.0.1-py3-none-any.whl (20 kB)\n",
            "Requirement already satisfied: attrs>=19.1.0 in /usr/local/lib/python3.10/dist-packages (from service-identity>=18.1.0->Scrapy) (23.2.0)\n",
            "Requirement already satisfied: pyasn1 in /usr/local/lib/python3.10/dist-packages (from service-identity>=18.1.0->Scrapy) (0.5.1)\n",
            "Requirement already satisfied: pyasn1-modules in /usr/local/lib/python3.10/dist-packages (from service-identity>=18.1.0->Scrapy) (0.3.0)\n",
            "Collecting automat>=0.8.0 (from Twisted>=18.9.0->Scrapy)\n",
            "  Downloading Automat-22.10.0-py2.py3-none-any.whl (26 kB)\n",
            "Collecting constantly>=15.1 (from Twisted>=18.9.0->Scrapy)\n",
            "  Downloading constantly-23.10.4-py3-none-any.whl (13 kB)\n",
            "Collecting hyperlink>=17.1.1 (from Twisted>=18.9.0->Scrapy)\n",
            "  Downloading hyperlink-21.0.0-py2.py3-none-any.whl (74 kB)\n",
            "\u001b[2K     \u001b[90m━━━━━━━━━━━━━━━━━━━━━━━━━━━━━━━━━━━━━━━━\u001b[0m \u001b[32m74.6/74.6 kB\u001b[0m \u001b[31m10.3 MB/s\u001b[0m eta \u001b[36m0:00:00\u001b[0m\n",
            "\u001b[?25hCollecting incremental>=22.10.0 (from Twisted>=18.9.0->Scrapy)\n",
            "  Downloading incremental-22.10.0-py2.py3-none-any.whl (16 kB)\n",
            "Requirement already satisfied: typing-extensions>=4.2.0 in /usr/local/lib/python3.10/dist-packages (from Twisted>=18.9.0->Scrapy) (4.10.0)\n",
            "Requirement already satisfied: idna in /usr/local/lib/python3.10/dist-packages (from tldextract->Scrapy) (3.6)\n",
            "Requirement already satisfied: requests>=2.1.0 in /usr/local/lib/python3.10/dist-packages (from tldextract->Scrapy) (2.31.0)\n",
            "Collecting requests-file>=1.4 (from tldextract->Scrapy)\n",
            "  Downloading requests_file-2.0.0-py2.py3-none-any.whl (4.2 kB)\n",
            "Requirement already satisfied: filelock>=3.0.8 in /usr/local/lib/python3.10/dist-packages (from tldextract->Scrapy) (3.13.1)\n",
            "Requirement already satisfied: six in /usr/local/lib/python3.10/dist-packages (from automat>=0.8.0->Twisted>=18.9.0->Scrapy) (1.16.0)\n",
            "Requirement already satisfied: pycparser in /usr/local/lib/python3.10/dist-packages (from cffi>=1.12->cryptography>=36.0.0->Scrapy) (2.21)\n",
            "Requirement already satisfied: charset-normalizer<4,>=2 in /usr/local/lib/python3.10/dist-packages (from requests>=2.1.0->tldextract->Scrapy) (3.3.2)\n",
            "Requirement already satisfied: urllib3<3,>=1.21.1 in /usr/local/lib/python3.10/dist-packages (from requests>=2.1.0->tldextract->Scrapy) (2.0.7)\n",
            "Requirement already satisfied: certifi>=2017.4.17 in /usr/local/lib/python3.10/dist-packages (from requests>=2.1.0->tldextract->Scrapy) (2024.2.2)\n",
            "Installing collected packages: PyDispatcher, incremental, zope.interface, w3lib, queuelib, protego, jmespath, itemadapter, hyperlink, cssselect, constantly, automat, Twisted, requests-file, parsel, tldextract, service-identity, itemloaders, Scrapy\n",
            "Successfully installed PyDispatcher-2.0.7 Scrapy-2.11.1 Twisted-24.3.0 automat-22.10.0 constantly-23.10.4 cssselect-1.2.0 hyperlink-21.0.0 incremental-22.10.0 itemadapter-0.8.0 itemloaders-1.1.0 jmespath-1.0.1 parsel-1.8.1 protego-0.3.0 queuelib-1.6.2 requests-file-2.0.0 service-identity-24.1.0 tldextract-5.1.1 w3lib-2.1.2 zope.interface-6.2\n"
          ]
        }
      ],
      "source": [
        "!pip install Scrapy"
      ]
    },
    {
      "cell_type": "code",
      "source": [
        "!scrapy startproject chouroukscraper"
      ],
      "metadata": {
        "colab": {
          "base_uri": "https://localhost:8080/"
        },
        "id": "biMnWEs17Mp0",
        "outputId": "54e37364-4e0c-4b7b-9fc3-5032caa0348b"
      },
      "execution_count": null,
      "outputs": [
        {
          "output_type": "stream",
          "name": "stdout",
          "text": [
            "New Scrapy project 'chouroukscraper', using template directory '/usr/local/lib/python3.10/dist-packages/scrapy/templates/project', created in:\n",
            "    /content/chouroukscraper\n",
            "\n",
            "You can start your first spider with:\n",
            "    cd chouroukscraper\n",
            "    scrapy genspider example example.com\n"
          ]
        }
      ]
    },
    {
      "cell_type": "code",
      "source": [
        "%cd chouroukscraper/chouroukscraper/spiders/"
      ],
      "metadata": {
        "colab": {
          "base_uri": "https://localhost:8080/"
        },
        "id": "N5s9fN7y7Uvf",
        "outputId": "76f033b3-9047-48f5-ab0e-2e133b14a78e"
      },
      "execution_count": null,
      "outputs": [
        {
          "output_type": "stream",
          "name": "stdout",
          "text": [
            "/content/chouroukscraper/chouroukscraper/spiders\n"
          ]
        }
      ]
    },
    {
      "cell_type": "code",
      "source": [
        "!scrapy genspider chourouk https://www.alchourouk.com/"
      ],
      "metadata": {
        "colab": {
          "base_uri": "https://localhost:8080/"
        },
        "id": "NnpFU9GS7afY",
        "outputId": "7a320266-d033-446a-f769-7908056c6499"
      },
      "execution_count": null,
      "outputs": [
        {
          "output_type": "stream",
          "name": "stdout",
          "text": [
            "Created spider 'chourouk' using template 'basic' in module:\n",
            "  chouroukscraper.spiders.chourouk\n"
          ]
        }
      ]
    },
    {
      "cell_type": "code",
      "source": [
        "%%writefile chouroukscraper.py\n",
        "import scrapy\n",
        "\n",
        "\n",
        "class ChouroukSpider(scrapy.Spider):\n",
        "    name = \"chouroukscraper\"\n",
        "    allowed_domains = [\"www.alchourouk.com\"]\n",
        "    start_urls = [\"https://www.alchourouk.com/\"]\n",
        "\n",
        "    def parse(self, response):\n",
        "        news=response.css('div.row-article')\n",
        "        for n in news:\n",
        "          yield{\n",
        "            'title':n.css('span a::text').get(),\n",
        "             'description':n.css('div.fieldset div.field-content::text').get(),\n",
        "            'date':n.css('div.fieldset span::text').get()\n",
        "          }\n"
      ],
      "metadata": {
        "colab": {
          "base_uri": "https://localhost:8080/"
        },
        "id": "yhc_AbNB7dg-",
        "outputId": "797e5946-f14e-4f16-cd4d-3febe9d03a56"
      },
      "execution_count": null,
      "outputs": [
        {
          "output_type": "stream",
          "name": "stdout",
          "text": [
            "Writing chouroukscraper.py\n"
          ]
        }
      ]
    },
    {
      "cell_type": "code",
      "source": [
        "!scrapy crawl chouroukscraper -o news_data.json"
      ],
      "metadata": {
        "colab": {
          "base_uri": "https://localhost:8080/"
        },
        "id": "vOFuR-6U9NUD",
        "outputId": "d83969a4-bd73-43fb-9eb2-994eeca5903d"
      },
      "execution_count": null,
      "outputs": [
        {
          "output_type": "stream",
          "name": "stdout",
          "text": [
            "2024-03-09 14:47:57 [scrapy.utils.log] INFO: Scrapy 2.11.1 started (bot: chouroukscraper)\n",
            "2024-03-09 14:47:57 [scrapy.utils.log] INFO: Versions: lxml 4.9.4.0, libxml2 2.10.3, cssselect 1.2.0, parsel 1.8.1, w3lib 2.1.2, Twisted 24.3.0, Python 3.10.12 (main, Nov 20 2023, 15:14:05) [GCC 11.4.0], pyOpenSSL 24.0.0 (OpenSSL 3.2.1 30 Jan 2024), cryptography 42.0.5, Platform Linux-6.1.58+-x86_64-with-glibc2.35\n",
            "2024-03-09 14:47:57 [scrapy.addons] INFO: Enabled addons:\n",
            "[]\n",
            "2024-03-09 14:47:57 [asyncio] DEBUG: Using selector: EpollSelector\n",
            "2024-03-09 14:47:57 [scrapy.utils.log] DEBUG: Using reactor: twisted.internet.asyncioreactor.AsyncioSelectorReactor\n",
            "2024-03-09 14:47:57 [scrapy.utils.log] DEBUG: Using asyncio event loop: asyncio.unix_events._UnixSelectorEventLoop\n",
            "2024-03-09 14:47:57 [scrapy.extensions.telnet] INFO: Telnet Password: c129c0b8a54b00c8\n",
            "2024-03-09 14:47:57 [scrapy.middleware] INFO: Enabled extensions:\n",
            "['scrapy.extensions.corestats.CoreStats',\n",
            " 'scrapy.extensions.telnet.TelnetConsole',\n",
            " 'scrapy.extensions.memusage.MemoryUsage',\n",
            " 'scrapy.extensions.feedexport.FeedExporter',\n",
            " 'scrapy.extensions.logstats.LogStats']\n",
            "2024-03-09 14:47:57 [scrapy.crawler] INFO: Overridden settings:\n",
            "{'BOT_NAME': 'chouroukscraper',\n",
            " 'FEED_EXPORT_ENCODING': 'utf-8',\n",
            " 'NEWSPIDER_MODULE': 'chouroukscraper.spiders',\n",
            " 'REQUEST_FINGERPRINTER_IMPLEMENTATION': '2.7',\n",
            " 'ROBOTSTXT_OBEY': True,\n",
            " 'SPIDER_MODULES': ['chouroukscraper.spiders'],\n",
            " 'TWISTED_REACTOR': 'twisted.internet.asyncioreactor.AsyncioSelectorReactor'}\n",
            "2024-03-09 14:47:57 [scrapy.middleware] INFO: Enabled downloader middlewares:\n",
            "['scrapy.downloadermiddlewares.robotstxt.RobotsTxtMiddleware',\n",
            " 'scrapy.downloadermiddlewares.httpauth.HttpAuthMiddleware',\n",
            " 'scrapy.downloadermiddlewares.downloadtimeout.DownloadTimeoutMiddleware',\n",
            " 'scrapy.downloadermiddlewares.defaultheaders.DefaultHeadersMiddleware',\n",
            " 'scrapy.downloadermiddlewares.useragent.UserAgentMiddleware',\n",
            " 'scrapy.downloadermiddlewares.retry.RetryMiddleware',\n",
            " 'scrapy.downloadermiddlewares.redirect.MetaRefreshMiddleware',\n",
            " 'scrapy.downloadermiddlewares.httpcompression.HttpCompressionMiddleware',\n",
            " 'scrapy.downloadermiddlewares.redirect.RedirectMiddleware',\n",
            " 'scrapy.downloadermiddlewares.cookies.CookiesMiddleware',\n",
            " 'scrapy.downloadermiddlewares.httpproxy.HttpProxyMiddleware',\n",
            " 'scrapy.downloadermiddlewares.stats.DownloaderStats']\n",
            "2024-03-09 14:47:57 [scrapy.middleware] INFO: Enabled spider middlewares:\n",
            "['scrapy.spidermiddlewares.httperror.HttpErrorMiddleware',\n",
            " 'scrapy.spidermiddlewares.offsite.OffsiteMiddleware',\n",
            " 'scrapy.spidermiddlewares.referer.RefererMiddleware',\n",
            " 'scrapy.spidermiddlewares.urllength.UrlLengthMiddleware',\n",
            " 'scrapy.spidermiddlewares.depth.DepthMiddleware']\n",
            "2024-03-09 14:47:57 [scrapy.middleware] INFO: Enabled item pipelines:\n",
            "[]\n",
            "2024-03-09 14:47:57 [scrapy.core.engine] INFO: Spider opened\n",
            "2024-03-09 14:47:57 [scrapy.extensions.logstats] INFO: Crawled 0 pages (at 0 pages/min), scraped 0 items (at 0 items/min)\n",
            "2024-03-09 14:47:57 [scrapy.extensions.telnet] INFO: Telnet console listening on 127.0.0.1:6023\n",
            "2024-03-09 14:47:58 [scrapy.core.engine] DEBUG: Crawled (200) <GET https://www.alchourouk.com/robots.txt> (referer: None)\n",
            "2024-03-09 14:47:58 [scrapy.core.engine] DEBUG: Crawled (200) <GET https://www.alchourouk.com/> (referer: None)\n",
            "2024-03-09 14:47:58 [scrapy.core.scraper] DEBUG: Scraped from <200 https://www.alchourouk.com/>\n",
            "{'title': 'فوشانة: وحدة انتاج جديد لمجموعة \"ماباد\" الفرنسية بصدد التركيز بالجهة ', 'description': 'الت وكالة النهوض بالإستثمار الخارجي ان المجموعة الفرنسية المختصة في بيع الادوات المدرسية والمكتبية MAPED بصدد تركيز وحدة انتاج جديدة في المنطقة الصناعية بفوشانة من ولاية بن عروس.', 'date': '15:19 - 2024/03/09'}\n",
            "2024-03-09 14:47:58 [scrapy.core.scraper] DEBUG: Scraped from <200 https://www.alchourouk.com/>\n",
            "{'title': 'تطاوين: الكشف عن شبكة مُختصة في جمع التبرعات من دور العبادة', 'description': 'تمكنت وحدات الأبحاث العدلية بمنطقة الحرس الوطني بتطاوين من الكشف عن شبكة مختصة في عمليات التحيل و ذلك بجمع التبرعات المالية من المصلين لترميم وإصلاح دور العبادة دون تسليمهم وصولات في الغرض .', 'date': '15:14 - 2024/03/09'}\n",
            "2024-03-09 14:47:58 [scrapy.core.scraper] DEBUG: Scraped from <200 https://www.alchourouk.com/>\n",
            "{'title': 'انطلاق برنامج تدخلات الاتحاد التونسي للتضامن الاجتماعي الخاص بشهر رمضان المعظم\\u200e', 'description': 'في إطار تنفيذ برنامج تدخلات شهر رمضان المعظم للاتحاد التونسي للتضامن الاجتماعي والممول من قبل وزارة الشؤون الاجتماعية، انعقدت يوم أمس الجمعة 8 مارس 2024 جلسة عمل بمقر الاتحاد برئاسة أمين الكشو رئيس الاتحاد وحضرها مدير عام التضامن وأعضاء الهيئة الت', 'date': '14:22 - 2024/03/09'}\n",
            "2024-03-09 14:47:58 [scrapy.core.scraper] DEBUG: Scraped from <200 https://www.alchourouk.com/>\n",
            "{'title': 'صندوق النقد الدولي يرفع برنامج مساعداته لمصر بـ 5 مليارات دولار', 'description': 'أبرمت مصر اتفاقا ماليا مهما مع صندوق النقد الدولي وذلك بالتزامن مع زيادة سعر الفائدة الرئيسي للبنك المركزي إلى مستوى بلغ 27.25 بالمائة.', 'date': '14:16 - 2024/03/09'}\n",
            "2024-03-09 14:47:58 [scrapy.core.scraper] DEBUG: Scraped from <200 https://www.alchourouk.com/>\n",
            "{'title': 'الدوري الكويتي: أيمن الصفاقسي يقود فريقه إلى الإنتصار .. ويذيق الخناق على نبيل معلول', 'description': 'تمكن نادي العربي من تحقيق الفوز أمام نادي كاظمة، بنتيجة هدف دون رد، في المباراة التي جمعت بين الفريقين أمس الجمعة 8 مارس 2024، منافسات الجولة 18 من الدوري الكويتي الممتاز لكرة القدم.', 'date': '13:44 - 2024/03/09'}\n",
            "2024-03-09 14:47:58 [scrapy.core.scraper] DEBUG: Scraped from <200 https://www.alchourouk.com/>\n",
            "{'title': 'بطولة الكرة الطائرة: برنامج مواجهات اليوم من الجولة الثالثة إيابا', 'description': 'في ما يلي برنامج مباريات الثالثة إيابا لمنافسات مجموعة التتويج لبطولة القسم الوطني \"أ\" للكرة الطائرة التي ستدور اليوم السبت 9 مارس 2024:\\nقاعة عيسى بن نصر:\\nالساعة 16:00 : الأولمبي القليبي – النجم الساحلي\\nقاعة بوسالم :', 'date': '13:36 - 2024/03/09'}\n",
            "2024-03-09 14:47:58 [scrapy.core.scraper] DEBUG: Scraped from <200 https://www.alchourouk.com/>\n",
            "{'title': 'فيتش رايتنغ: \"بإمكان القطاع البنكي مواصلة الاستجابة لحاجيات الدولة من التمويل خلال سنة 2024\"', 'description': 'بإمكان القطاع البنكي التونسي مواصلة الإستجابة لحاجيات التمويل المتنامية للدولة خلال سنة 2024، ذلك ما أكّدته وكالة الترقيم المالي الدولية، فيتش رايتنغ.', 'date': '13:33 - 2024/03/09'}\n",
            "2024-03-09 14:47:58 [scrapy.core.scraper] DEBUG: Scraped from <200 https://www.alchourouk.com/>\n",
            "{'title': 'الملياردير روبيرت موردوك يخطب للمرة السادسة في سن 92 عاما', 'description': 'أعلن قطب الإعلام روبيرت موردوك البالغ 92 عاماً، خطوبته للمرة السادسة ، وسيتزوج الملياردير الأسترالي الحاصل على الجنسية الأميركية من إيلينا جوكوفا، عالمة الأحياء الجزيئية المتقاعدة من أصل روسي، والتي تصغره بـ25 عاماً.', 'date': '12:52 - 2024/03/09'}\n",
            "2024-03-09 14:47:58 [scrapy.core.engine] INFO: Closing spider (finished)\n",
            "2024-03-09 14:47:58 [scrapy.extensions.feedexport] INFO: Stored json feed (8 items) in: news_data.json\n",
            "2024-03-09 14:47:58 [scrapy.statscollectors] INFO: Dumping Scrapy stats:\n",
            "{'downloader/request_bytes': 448,\n",
            " 'downloader/request_count': 2,\n",
            " 'downloader/request_method_count/GET': 2,\n",
            " 'downloader/response_bytes': 16911,\n",
            " 'downloader/response_count': 2,\n",
            " 'downloader/response_status_count/200': 2,\n",
            " 'elapsed_time_seconds': 1.009507,\n",
            " 'feedexport/success_count/FileFeedStorage': 1,\n",
            " 'finish_reason': 'finished',\n",
            " 'finish_time': datetime.datetime(2024, 3, 9, 14, 47, 58, 940907, tzinfo=datetime.timezone.utc),\n",
            " 'httpcompression/response_bytes': 91521,\n",
            " 'httpcompression/response_count': 2,\n",
            " 'item_scraped_count': 8,\n",
            " 'log_count/DEBUG': 13,\n",
            " 'log_count/INFO': 11,\n",
            " 'memusage/max': 99020800,\n",
            " 'memusage/startup': 99020800,\n",
            " 'response_received_count': 2,\n",
            " 'robotstxt/request_count': 1,\n",
            " 'robotstxt/response_count': 1,\n",
            " 'robotstxt/response_status_count/200': 1,\n",
            " 'scheduler/dequeued': 1,\n",
            " 'scheduler/dequeued/memory': 1,\n",
            " 'scheduler/enqueued': 1,\n",
            " 'scheduler/enqueued/memory': 1,\n",
            " 'start_time': datetime.datetime(2024, 3, 9, 14, 47, 57, 931400, tzinfo=datetime.timezone.utc)}\n",
            "2024-03-09 14:47:58 [scrapy.core.engine] INFO: Spider closed (finished)\n"
          ]
        }
      ]
    },
    {
      "cell_type": "code",
      "source": [
        "import json\n",
        "\n",
        "with open('news_data.json','r') as file:\n",
        "  data=json.load(file)\n",
        "\n",
        "print(len(data))"
      ],
      "metadata": {
        "id": "ciaSzv8QK6bY",
        "outputId": "1f7e1e85-c3c0-4067-b9ab-ca9e54ad1f73",
        "colab": {
          "base_uri": "https://localhost:8080/"
        }
      },
      "execution_count": null,
      "outputs": [
        {
          "output_type": "stream",
          "name": "stdout",
          "text": [
            "8\n"
          ]
        }
      ]
    },
    {
      "cell_type": "code",
      "source": [
        "first_news=data[0]\n",
        "print(f\"Title: {first_news['title']}\")\n",
        "print(f\"Date: {first_news['date']}\")\n",
        "print(f\"Description: {first_news['description']}\")"
      ],
      "metadata": {
        "colab": {
          "base_uri": "https://localhost:8080/"
        },
        "id": "jt6upW28LBYI",
        "outputId": "909d78c6-c69e-4a03-b54d-76729e053f19"
      },
      "execution_count": null,
      "outputs": [
        {
          "output_type": "stream",
          "name": "stdout",
          "text": [
            "Title: فوشانة: وحدة انتاج جديد لمجموعة \"ماباد\" الفرنسية بصدد التركيز بالجهة \n",
            "Date: 15:19 - 2024/03/09\n",
            "Description: الت وكالة النهوض بالإستثمار الخارجي ان المجموعة الفرنسية المختصة في بيع الادوات المدرسية والمكتبية MAPED بصدد تركيز وحدة انتاج جديدة في المنطقة الصناعية بفوشانة من ولاية بن عروس.\n"
          ]
        }
      ]
    }
  ]
}